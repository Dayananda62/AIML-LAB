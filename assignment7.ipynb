{
 "cells": [
  {
   "cell_type": "code",
   "execution_count": 10,
   "id": "c67fd2f2-c94d-420d-b1f7-33aa0fe7d034",
   "metadata": {},
   "outputs": [
    {
     "name": "stdout",
     "output_type": "stream",
     "text": [
      "Coefficients: [60.333333333333336, 1.217797218776523, 0.0200727837955372]\n"
     ]
    }
   ],
   "source": [
    "import pandas as pd\n",
    "\n",
    "# Polynomial Regression Function\n",
    "def polynomial_regression(x, y, degree):\n",
    "    n = len(x)\n",
    "    \n",
    "    # Create the design matrix X for polynomial regression\n",
    "    X = [[xi ** d for d in range(degree + 1)] for xi in x]\n",
    "    \n",
    "    # Transpose of X\n",
    "    XT = list(zip(*X))\n",
    "    \n",
    "    # Calculate X^T * X\n",
    "    XTX = [[sum(XT[i][j] * X[j][k] for j in range(n)) \n",
    "            for k in range(degree + 1)] for i in range(degree + 1)]\n",
    "    \n",
    "    # Calculate X^T * Y\n",
    "    XTY = [sum(XT[i][j] * y[j] for j in range(n)) for i in range(degree + 1)]\n",
    "    \n",
    "    # Solve for coefficients (diagonal dominance assumed)\n",
    "    coeff = [XTY[i] / XTX[i][i] for i in range(degree + 1)]\n",
    "    \n",
    "    return coeff\n",
    "\n",
    "# Load data from CSV file\n",
    "data = pd.read_csv('Data1.csv')\n",
    "\n",
    "# Extract input (X1) and target (Y) variables\n",
    "x = data['X1'].values  # Input variable\n",
    "y = data['Y'].values   # Target variable\n",
    "\n",
    "# Degree of polynomial\n",
    "degree = 2  # Adjust as needed\n",
    "\n",
    "# Perform polynomial regression\n",
    "coefficients = polynomial_regression(x, y, degree)\n",
    "\n",
    "# Display results\n",
    "print(\"Coefficients:\", coefficients)\n"
   ]
  },
  {
   "cell_type": "code",
   "execution_count": null,
   "id": "da0f05c2-5bf6-4671-bb13-95054879e790",
   "metadata": {},
   "outputs": [],
   "source": []
  }
 ],
 "metadata": {
  "kernelspec": {
   "display_name": "Python 3 (ipykernel)",
   "language": "python",
   "name": "python3"
  },
  "language_info": {
   "codemirror_mode": {
    "name": "ipython",
    "version": 3
   },
   "file_extension": ".py",
   "mimetype": "text/x-python",
   "name": "python",
   "nbconvert_exporter": "python",
   "pygments_lexer": "ipython3",
   "version": "3.12.4"
  }
 },
 "nbformat": 4,
 "nbformat_minor": 5
}
