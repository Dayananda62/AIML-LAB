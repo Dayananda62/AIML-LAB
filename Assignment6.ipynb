{
 "cells": [
  {
   "cell_type": "code",
   "execution_count": 5,
   "id": "f83f560f-3306-4856-aee0-0cc7ca46c1f6",
   "metadata": {},
   "outputs": [
    {
     "name": "stdout",
     "output_type": "stream",
     "text": [
      "Coefficients:\n",
      "B0 (intercept): 38.873096698265044\n",
      "B1: 1.0629493797738334\n",
      "B2: -0.15180574234415545\n",
      "B3: -0.40655012532046797\n",
      "Predicted Y values:\n",
      "[48.8701537  44.36184213]\n"
     ]
    }
   ],
   "source": [
    "import pandas as pd\n",
    "import numpy as np\n",
    "\n",
    "# Load the data from Data1.csv\n",
    "data = pd.read_csv(\"Data1.csv\")\n",
    "\n",
    "# Separate the features (X) and target variable (Y)\n",
    "X = data[['X1', 'X2', 'X3']]\n",
    "Y = data['Y']\n",
    "\n",
    "# Add a column of ones for the intercept term (optional in scikit-learn)\n",
    "X = np.c_[np.ones(len(X)), X]\n",
    "\n",
    "# Convert to NumPy arrays for efficient matrix operations\n",
    "X = np.asarray(X)\n",
    "Y = np.asarray(Y)\n",
    "\n",
    "# Calculate the coefficients (weights) using matrix multiplication and least squares\n",
    "B = np.linalg.inv((X.T @ X)) @ (X.T @ Y)\n",
    "\n",
    "# Print the coefficients\n",
    "print(\"Coefficients:\")\n",
    "print(f\"B0 (intercept): {B[0]}\")\n",
    "print(f\"B1: {B[1]}\")\n",
    "print(f\"B2: {B[2]}\")\n",
    "print(f\"B3: {B[3]}\")  # Assuming 3 features (X1, X2, X3)\n",
    "\n",
    "# Predict Y values for new data points\n",
    "new_data = np.array([[1, 50, 70, 80], [1, 30, 40, 50]])  # Include intercept term\n",
    "predicted_y = new_data @ B\n",
    "print(\"Predicted Y values:\")\n",
    "print(predicted_y)\n"
   ]
  },
  {
   "cell_type": "code",
   "execution_count": 18,
   "id": "942e4282-1252-466a-8a75-71d435157169",
   "metadata": {},
   "outputs": [
    {
     "name": "stdout",
     "output_type": "stream",
     "text": [
      "Intercept (β0): 827087.5203080177\n",
      "Coefficients (β1 for Area, β2 for Bedrooms, β3 for Age): 230.59826102652733 -167936.09723809361 -18554.36548528634\n",
      "Predicted Price for [3000, 3, 40]: 272899.3922618653\n",
      "Predicted Price for [2500, 4, 5]: 639066.95649553\n"
     ]
    }
   ],
   "source": [
    "import numpy as np\n",
    "import pandas as pd\n",
    "\n",
    "data = pd.DataFrame({\n",
    "    'Area': [2600, 3000, 3200, 3600, 4000],\n",
    "    'Bedrooms': [3, 4, np.nan, 3, 5],\n",
    "    'Age': [20, 15, 18, 30, 8],\n",
    "    'Price': [550000, 565000, 610000, 595000, 760000]\n",
    "})\n",
    "\n",
    "data['Bedrooms'] = data['Bedrooms'].fillna(data['Bedrooms'].mean())\n",
    "\n",
    "X = data[['Area', 'Bedrooms', 'Age']]\n",
    "Y = data['Price']\n",
    "\n",
    "X.insert(0, 'B0', 1)\n",
    "\n",
    "XT = X.T\n",
    "XTX = XT.dot(X)\n",
    "XTXINV = np.linalg.inv(XTX)\n",
    "XTY = XT.dot(Y)\n",
    "BHAT = XTXINV.dot(XTY)\n",
    "\n",
    "print(\"Intercept (β0):\", BHAT[0])\n",
    "print(\"Coefficients (β1 for Area, β2 for Bedrooms, β3 for Age):\", BHAT[1], BHAT[2], BHAT[3])\n",
    "\n",
    "area, bedrooms, age = 3000, 3, 40\n",
    "predicted_price_1 = BHAT[0] + BHAT[1] * area + BHAT[2] * bedrooms + BHAT[3] * age\n",
    "\n",
    "area, bedrooms, age = 2500, 4, 5\n",
    "predicted_price_2 = BHAT[0] + BHAT[1] * area + BHAT[2] * bedrooms + BHAT[3] * age\n",
    "\n",
    "print(\"Predicted Price for [3000, 3, 40]:\", predicted_price_1)\n",
    "print(\"Predicted Price for [2500, 4, 5]:\", predicted_price_2)\n"
   ]
  },
  {
   "cell_type": "code",
   "execution_count": null,
   "id": "c1b7d90a-cd8c-4842-b9d6-c784c48373cc",
   "metadata": {},
   "outputs": [],
   "source": []
  }
 ],
 "metadata": {
  "kernelspec": {
   "display_name": "Python 3 (ipykernel)",
   "language": "python",
   "name": "python3"
  },
  "language_info": {
   "codemirror_mode": {
    "name": "ipython",
    "version": 3
   },
   "file_extension": ".py",
   "mimetype": "text/x-python",
   "name": "python",
   "nbconvert_exporter": "python",
   "pygments_lexer": "ipython3",
   "version": "3.12.4"
  }
 },
 "nbformat": 4,
 "nbformat_minor": 5
}
