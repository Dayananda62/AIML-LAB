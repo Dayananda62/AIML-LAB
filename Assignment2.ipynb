{
 "cells": [
  {
   "cell_type": "code",
   "execution_count": 5,
   "id": "e9311493",
   "metadata": {},
   "outputs": [
    {
     "name": "stdout",
     "output_type": "stream",
     "text": [
      "Enter first number :3\n",
      "Enter second number :5\n",
      "LCM is: 15\n"
     ]
    }
   ],
   "source": [
    "x=int(input(\"Enter first number :\"))\n",
    "y=int(input(\"Enter second number :\"))\n",
    "\n",
    "if x > y:\n",
    "   greater = x\n",
    "else:\n",
    "   greater = y\n",
    "\n",
    "while(True):\n",
    "   if((greater % x == 0) and (greater % y == 0)):\n",
    "       lcm = greater\n",
    "       break\n",
    "   greater += 1\n",
    "\n",
    "print(\"LCM is: \"+str(lcm))"
   ]
  },
  {
   "cell_type": "code",
   "execution_count": 5,
   "id": "1463701e",
   "metadata": {},
   "outputs": [
    {
     "name": "stdout",
     "output_type": "stream",
     "text": [
      "Enter first number :33\n",
      "Enter second number :33\n",
      "1.Addition\n",
      "2.Substarction\n",
      "3.Multiplication\n",
      "4.Division\n",
      "Enter your choice: 5\n",
      "Thank you\n"
     ]
    },
    {
     "ename": "SystemExit",
     "evalue": "",
     "output_type": "error",
     "traceback": [
      "An exception has occurred, use %tb to see the full traceback.\n",
      "\u001b[0;31mSystemExit\u001b[0m\n"
     ]
    }
   ],
   "source": [
    "\n",
    "import sys\n",
    "while(True):\n",
    "    x=int(input(\"Enter first number :\"))\n",
    "    y=int(input(\"Enter second number :\"))\n",
    "    print(\"1.Addition\\n2.Substarction\\n3.Multiplication\\n4.Division\")\n",
    "    ch=int(input(\"Enter your choice: \"))\n",
    "    \n",
    "    if ch==1:\n",
    "        cal=x+y\n",
    "        print(\"Sum is : \"+str(cal))\n",
    "    elif ch==2:\n",
    "        cal=x-y\n",
    "        print(\"Substartcion is : \"+str(cal))    \n",
    "    elif ch==3:\n",
    "        cal=x*y\n",
    "        print(\"Multiplication is : \"+str(cal))\n",
    "    elif ch==4:\n",
    "        cal=x/y\n",
    "        print(\"Division is : \"+str(cal))\n",
    "    if ch==5:\n",
    "        print(\"Thank you\")\n",
    "        sys.exit()\n",
    "        \n",
    "    else:\n",
    "        print(\"invalid choice\")\n",
    "            \n",
    "            \n",
    "            \n",
    "            \n",
    "            "
   ]
  },
  {
   "cell_type": "code",
   "execution_count": 7,
   "id": "4a4429fb",
   "metadata": {},
   "outputs": [
    {
     "name": "stdout",
     "output_type": "stream",
     "text": [
      "[4, 5, 6, 7, 8, 1, 2, 3, 4, 5]\n"
     ]
    }
   ],
   "source": [
    "list1=[1,2,3,4,5]\n",
    "list2=[4,5,6,7,8]\n",
    "list2.extend(list1)\n",
    "print(list2)"
   ]
  },
  {
   "cell_type": "code",
   "execution_count": null,
   "id": "d59b5da8",
   "metadata": {},
   "outputs": [],
   "source": []
  },
  {
   "cell_type": "code",
   "execution_count": 21,
   "id": "3119b07f",
   "metadata": {},
   "outputs": [
    {
     "name": "stdout",
     "output_type": "stream",
     "text": [
      "Length is 7\n",
      "MAx is 99\n",
      "min is 10\n",
      "sum is 307\n",
      "sorted is [10, 11, 22, 33, 55, 77, 99]\n"
     ]
    }
   ],
   "source": [
    "tuple1=(22,11,55,77,99,33,10)\n",
    "print(f\"Length is {len(tuple1)}\")\n",
    "print(f\"MAx is {max(tuple1)}\")\n",
    "print(f\"min is {min(tuple1)}\")\n",
    "print(f\"sum is {sum(tuple1)}\")\n",
    "print(f\"sorted is {sorted(tuple1)}\")"
   ]
  },
  {
   "cell_type": "code",
   "execution_count": 25,
   "id": "f84f612b",
   "metadata": {},
   "outputs": [
    {
     "name": "stdout",
     "output_type": "stream",
     "text": [
      "[22, 11, 55, 77, 99, 33, 10]\n",
      "['P', 'y', 't', 'h', 'o', 'n', ' ', 'w', 'o', 'r', 'l', 'd']\n",
      "(10, 40, 5, 98, 45)\n",
      "('P', 'y', 't', 'h', 'o', 'n', ' ', 'w', 'o', 'r', 'l', 'd')\n"
     ]
    }
   ],
   "source": [
    "lst=[10,40,5,98,45]\n",
    "tup=(22,11,55,77,99,33,10)\n",
    "string=\"Python world\"\n",
    "\n",
    "list1=list(tup)\n",
    "list2=list(string)\n",
    "\n",
    "tuple1=tuple(lst)\n",
    "tuple2=tuple(string)\n",
    "\n",
    "\n",
    "# a=str(lst)\n",
    "# print(a)\n",
    "\n",
    "print(list1)\n",
    "print(list2)\n",
    "\n",
    "print(tuple1)\n",
    "print(tuple2)\n",
    "\n",
    "\n",
    "\n"
   ]
  },
  {
   "cell_type": "code",
   "execution_count": 28,
   "id": "7d237ea2",
   "metadata": {},
   "outputs": [
    {
     "name": "stdout",
     "output_type": "stream",
     "text": [
      "['cherry', 'date']\n",
      "cherry\n",
      "cherry\n"
     ]
    }
   ],
   "source": [
    "list1 = ['apple', 'banana', 'cherry', 'date']\n",
    "print(list1[2:4])\n",
    "print(list1[2])\n",
    "print(list1[-2])"
   ]
  },
  {
   "cell_type": "code",
   "execution_count": 4,
   "id": "d5c1910d",
   "metadata": {},
   "outputs": [
    {
     "name": "stdout",
     "output_type": "stream",
     "text": [
      "{'name': 'John', 'age': 36, 'country': 'Norway'}\n",
      "{1: 'apple', 2: 'banana', 3: 'cherry', 4: 'mango', 5: 'pineapple'}\n",
      "{'key1': 0, 'key2': 0, 'key3': 0}\n",
      "banana\n",
      "dict_items([(1, 'apple'), (2, 'banana'), (3, 'cherry'), (4, 'mango'), (5, 'pineapple')])\n",
      "dict_keys([1, 2, 3, 4, 5])\n",
      "{2: 'banana', 3: 'cherry', 4: 'mango', 5: 'pineapple'}\n",
      "dict_values(['banana', 'cherry', 'mango', 'pineapple'])\n"
     ]
    }
   ],
   "source": [
    "dict1={1:\"apple\",2:\"banana\",3:\"cherry\",4:\"mango\",5:\"pineapple\"}\n",
    "x = dict(name = \"John\", age = 36, country = \"Norway\")\n",
    "print(x)\n",
    "dict2=dict1.copy()\n",
    "print(dict2)\n",
    "\n",
    "\n",
    "x = ('key1', 'key2', 'key3')\n",
    "y = 0\n",
    "thisdict = dict.fromkeys(x, y)\n",
    "print(thisdict)\n",
    "\n",
    "\n",
    "a=dict1.get(2)\n",
    "print(a)\n",
    "\n",
    "print(dict1.items())\n",
    "print(dict1.keys())\n",
    "dict1.pop(1)\n",
    "print(dict1)\n",
    "print(dict1.values())\n",
    "# dict1.popItem()\n",
    "# print(dict1)"
   ]
  },
  {
   "cell_type": "code",
   "execution_count": 52,
   "id": "eab0f40d",
   "metadata": {},
   "outputs": [
    {
     "name": "stdout",
     "output_type": "stream",
     "text": [
      "[11, 22, 33, 44, 44, 55, 66, 88]\n",
      "22\n",
      "66\n"
     ]
    }
   ],
   "source": [
    "list1=[44,22,66,88,55,44,33,11]\n",
    "list2=sorted(list1)\n",
    "print(list2)\n",
    "n=len(list2)\n",
    "print(list2[1])\n",
    "print(list2[n-2])"
   ]
  },
  {
   "cell_type": "code",
   "execution_count": 58,
   "id": "0a0c0b1a",
   "metadata": {},
   "outputs": [
    {
     "name": "stdout",
     "output_type": "stream",
     "text": [
      "Enter a number: 33\n",
      "Number is Odd\n"
     ]
    }
   ],
   "source": [
    "a=int(input(\"Enter a number: \"))\n",
    "statement=\"Number is Odd\"\n",
    "if (a%2)==0:\n",
    "      statement=\"Number is Even\"\n",
    "print(statement)"
   ]
  },
  {
   "cell_type": "code",
   "execution_count": 11,
   "id": "bdc1546f",
   "metadata": {},
   "outputs": [
    {
     "name": "stdout",
     "output_type": "stream",
     "text": [
      "[88, 66, 55, 44, 44, 33, 22, 11]\n"
     ]
    }
   ],
   "source": [
    "list1 = [44, 22, 66, 88, 55, 44, 33, 11]\n",
    "list2 = []\n",
    "\n",
    "while list1:\n",
    "    # Find the maximum element\n",
    "    max_element = list1[0]\n",
    "    for element in list1:\n",
    "        if element > max_element:\n",
    "            max_element = element\n",
    "\n",
    "    # Append the maximum element to list2\n",
    "    list2.append(max_element)\n",
    "\n",
    "    # Remove the maximum element from list1\n",
    "    list1.remove(max_element)\n",
    "\n",
    "print(list2)\n"
   ]
  },
  {
   "cell_type": "code",
   "execution_count": null,
   "id": "3f03031a",
   "metadata": {},
   "outputs": [],
   "source": []
  },
  {
   "cell_type": "code",
   "execution_count": null,
   "id": "2cae6232",
   "metadata": {},
   "outputs": [],
   "source": []
  }
 ],
 "metadata": {
  "kernelspec": {
   "display_name": "Python 3 (ipykernel)",
   "language": "python",
   "name": "python3"
  },
  "language_info": {
   "codemirror_mode": {
    "name": "ipython",
    "version": 3
   },
   "file_extension": ".py",
   "mimetype": "text/x-python",
   "name": "python",
   "nbconvert_exporter": "python",
   "pygments_lexer": "ipython3",
   "version": "3.9.7"
  }
 },
 "nbformat": 4,
 "nbformat_minor": 5
}
