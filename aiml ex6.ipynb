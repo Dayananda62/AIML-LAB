{
 "cells": [
  {
   "cell_type": "markdown",
   "metadata": {},
   "source": [
    "# 1 a. Implement Multilinear Regression on Data1.csv. Display the coefficients. (that is B1, B2, B3)\n",
    "#   b. Predict Y values for \n",
    "#  Y  X1    X2    X3\n",
    "#  ?  50    70    80\n",
    "#  ?  30    40    50"
   ]
  },
  {
   "cell_type": "code",
   "execution_count": 2,
   "metadata": {},
   "outputs": [
    {
     "data": {
      "text/html": [
       "<div>\n",
       "<style scoped>\n",
       "    .dataframe tbody tr th:only-of-type {\n",
       "        vertical-align: middle;\n",
       "    }\n",
       "\n",
       "    .dataframe tbody tr th {\n",
       "        vertical-align: top;\n",
       "    }\n",
       "\n",
       "    .dataframe thead th {\n",
       "        text-align: right;\n",
       "    }\n",
       "</style>\n",
       "<table border=\"1\" class=\"dataframe\">\n",
       "  <thead>\n",
       "    <tr style=\"text-align: right;\">\n",
       "      <th></th>\n",
       "      <th>Y</th>\n",
       "      <th>X1</th>\n",
       "      <th>X2</th>\n",
       "      <th>X3</th>\n",
       "    </tr>\n",
       "  </thead>\n",
       "  <tbody>\n",
       "    <tr>\n",
       "      <th>0</th>\n",
       "      <td>43</td>\n",
       "      <td>30</td>\n",
       "      <td>63</td>\n",
       "      <td>33</td>\n",
       "    </tr>\n",
       "    <tr>\n",
       "      <th>1</th>\n",
       "      <td>63</td>\n",
       "      <td>45</td>\n",
       "      <td>47</td>\n",
       "      <td>52</td>\n",
       "    </tr>\n",
       "    <tr>\n",
       "      <th>2</th>\n",
       "      <td>71</td>\n",
       "      <td>68</td>\n",
       "      <td>67</td>\n",
       "      <td>62</td>\n",
       "    </tr>\n",
       "    <tr>\n",
       "      <th>3</th>\n",
       "      <td>61</td>\n",
       "      <td>46</td>\n",
       "      <td>83</td>\n",
       "      <td>42</td>\n",
       "    </tr>\n",
       "    <tr>\n",
       "      <th>4</th>\n",
       "      <td>81</td>\n",
       "      <td>66</td>\n",
       "      <td>84</td>\n",
       "      <td>42</td>\n",
       "    </tr>\n",
       "  </tbody>\n",
       "</table>\n",
       "</div>"
      ],
      "text/plain": [
       "    Y  X1  X2  X3\n",
       "0  43  30  63  33\n",
       "1  63  45  47  52\n",
       "2  71  68  67  62\n",
       "3  61  46  83  42\n",
       "4  81  66  84  42"
      ]
     },
     "execution_count": 2,
     "metadata": {},
     "output_type": "execute_result"
    }
   ],
   "source": [
    "# Import necessary libraries\n",
    "import numpy as np\n",
    "import pandas as pd\n",
    "\n",
    "# Read data from CSV file into a DataFrame\n",
    "df = pd.read_csv('C:/Users/raosu/Documents/Assignment 6 aiml/Data1.csv')\n",
    "\n",
    "# Display the first few rows of the DataFrame\n",
    "df.head()\n"
   ]
  },
  {
   "cell_type": "code",
   "execution_count": 3,
   "metadata": {},
   "outputs": [
    {
     "name": "stdout",
     "output_type": "stream",
     "text": [
      "   X1  X2  X3\n",
      "0  30  63  33\n",
      "1  45  47  52\n",
      "2  68  67  62\n",
      "3  46  83  42\n",
      "4  66  84  42\n",
      "5  36  50  66\n"
     ]
    },
    {
     "data": {
      "text/plain": [
       "array([[ 1, 30, 63, 33],\n",
       "       [ 1, 45, 47, 52],\n",
       "       [ 1, 68, 67, 62],\n",
       "       [ 1, 46, 83, 42],\n",
       "       [ 1, 66, 84, 42],\n",
       "       [ 1, 36, 50, 66]], dtype=int64)"
      ]
     },
     "execution_count": 3,
     "metadata": {},
     "output_type": "execute_result"
    }
   ],
   "source": [
    "# Create a new DataFrame 'x' by dropping the 'Y' column from the original DataFrame 'df'\n",
    "x = df.drop('Y', axis=1)\n",
    "\n",
    "# Display the modified DataFrame 'x'\n",
    "print(x)\n",
    "\n",
    "# Insert a new column 'x0' at the beginning of the DataFrame with constant values [1, 1, 1, 1, 1, 1]\n",
    "x.insert(0, 'x0', [1, 1, 1, 1, 1, 1])\n",
    "\n",
    "# Convert the DataFrame 'x' to a NumPy array\n",
    "x = x.values\n",
    "\n",
    "# Display the resulting NumPy array\n",
    "x\n"
   ]
  },
  {
   "cell_type": "code",
   "execution_count": 6,
   "metadata": {},
   "outputs": [
    {
     "data": {
      "text/plain": [
       "array([[ 1,  1,  1,  1,  1,  1],\n",
       "       [30, 45, 68, 46, 66, 36],\n",
       "       [63, 47, 67, 83, 84, 50],\n",
       "       [33, 52, 62, 42, 42, 66]], dtype=int64)"
      ]
     },
     "execution_count": 6,
     "metadata": {},
     "output_type": "execute_result"
    }
   ],
   "source": [
    "# Transpose the NumPy array 'x' to obtain the transpose 'x_transpose'\n",
    "x_transpose = x.T\n",
    "\n",
    "# Display the transposed array\n",
    "x_transpose\n"
   ]
  },
  {
   "cell_type": "code",
   "execution_count": 7,
   "metadata": {},
   "outputs": [
    {
     "data": {
      "text/plain": [
       "array([[    6,   291,   394,   297],\n",
       "       [  291, 15317, 19723, 14626],\n",
       "       [  394, 19723, 27112, 18991],\n",
       "       [  297, 14626, 18991, 15521]], dtype=int64)"
      ]
     },
     "execution_count": 7,
     "metadata": {},
     "output_type": "execute_result"
    }
   ],
   "source": [
    "# Calculate the dot product of the transposed matrix 'x_transpose' and the original matrix 'x' to get 'x_transposeX'\n",
    "x_transposeX = x_transpose.dot(x)\n",
    "\n",
    "# Display the resulting matrix 'x_transposeX'\n",
    "x_transposeX\n"
   ]
  },
  {
   "cell_type": "code",
   "execution_count": 8,
   "metadata": {},
   "outputs": [
    {
     "data": {
      "text/plain": [
       "array([[ 1.69580230e+01,  8.31914459e-02, -1.73130574e-01,\n",
       "        -1.91055228e-01],\n",
       "       [ 8.31914459e-02,  1.89410821e-03, -1.54994977e-03,\n",
       "        -1.48031635e-03],\n",
       "       [-1.73130574e-01, -1.54994977e-03,  2.35593088e-03,\n",
       "         1.89084867e-03],\n",
       "       [-1.91055228e-01, -1.48031635e-03,  1.89084867e-03,\n",
       "         2.80171396e-03]])"
      ]
     },
     "execution_count": 8,
     "metadata": {},
     "output_type": "execute_result"
    }
   ],
   "source": [
    "# Calculate the inverse of the matrix 'x_transposeX' using NumPy's linear algebra module\n",
    "x_transposeX_inv = np.linalg.inv(x_transposeX)\n",
    "\n",
    "# Display the inverse matrix 'x_transposeX_inv'\n",
    "x_transposeX_inv\n"
   ]
  },
  {
   "cell_type": "code",
   "execution_count": 9,
   "metadata": {},
   "outputs": [
    {
     "data": {
      "text/plain": [
       "array([43, 63, 71, 61, 81, 43], dtype=int64)"
      ]
     },
     "execution_count": 9,
     "metadata": {},
     "output_type": "execute_result"
    }
   ],
   "source": [
    "# Extract the dependent variable 'Y' from the DataFrame 'df' and convert it to a NumPy array\n",
    "y = df['Y'].values\n",
    "\n",
    "# Display the resulting NumPy array 'y'\n",
    "y\n"
   ]
  },
  {
   "cell_type": "code",
   "execution_count": 10,
   "metadata": {},
   "outputs": [
    {
     "data": {
      "text/plain": [
       "array([  362, 18653, 24444, 17899], dtype=int64)"
      ]
     },
     "execution_count": 10,
     "metadata": {},
     "output_type": "execute_result"
    }
   ],
   "source": [
    "# Calculate the dot product of the transposed matrix 'x_transpose' and the dependent variable 'y' to get 'x_transposeY'\n",
    "x_transposeY = x_transpose.dot(y)\n",
    "\n",
    "# Display the resulting vector 'x_transposeY'\n",
    "x_transposeY\n"
   ]
  },
  {
   "cell_type": "code",
   "execution_count": 11,
   "metadata": {},
   "outputs": [
    {
     "name": "stdout",
     "output_type": "stream",
     "text": [
      "B0: 38.873096698266636 \n",
      "B1: 1.0629493797738405 \n",
      "B2: -0.1518057423441661 \n",
      "B3: -0.4065501253204644\n"
     ]
    }
   ],
   "source": [
    "# Calculate the coefficients of the linear regression model using the normal equation\n",
    "B_hat = x_transposeX_inv.dot(x_transposeY)\n",
    "\n",
    "# Extract individual coefficients B0, B1, B2, B3 from the vector B_hat\n",
    "B0, B1, B2, B3 = B_hat[0], B_hat[1], B_hat[2], B_hat[3]\n",
    "\n",
    "# Display the calculated coefficients\n",
    "print(\"B0:\", B0, \"\\nB1:\", B1, \"\\nB2:\", B2, \"\\nB3:\", B3)\n"
   ]
  },
  {
   "cell_type": "code",
   "execution_count": 48,
   "metadata": {},
   "outputs": [
    {
     "data": {
      "text/plain": [
       "48.87015369722931"
      ]
     },
     "execution_count": 48,
     "metadata": {},
     "output_type": "execute_result"
    }
   ],
   "source": [
    "# Predict the dependent variable 'Y' for new data (50, 70, 80) using the calculated coefficients\n",
    "y_predicted = B0 + (B1 * 50) + (B2 * 70) + (B3 * 80)\n",
    "\n",
    "# Display the predicted value of 'Y'\n",
    "y_predicted\n"
   ]
  },
  {
   "cell_type": "code",
   "execution_count": 12,
   "metadata": {},
   "outputs": [
    {
     "data": {
      "text/plain": [
       "44.361842131691986"
      ]
     },
     "execution_count": 12,
     "metadata": {},
     "output_type": "execute_result"
    }
   ],
   "source": [
    "# Predict the dependent variable 'Y' for new data (30, 40, 50) using the calculated coefficients\n",
    "y_predicted = B0 + (B1 * 30) + (B2 * 40) + (B3 * 50)\n",
    "\n",
    "# Display the predicted value of 'Y'\n",
    "y_predicted\n"
   ]
  },
  {
   "cell_type": "markdown",
   "metadata": {},
   "source": [
    "# 2. Implement Multiple Linear Regression to predict the price given the data set below. Do data preprocessing to fill the null value. Display the coefficients. (that is B1, B2, B3)\n",
    "# Area---Bedrooms---Age---Price\n",
    "# 2600---3----------------20----550000\n",
    "# 3000---4----------------15----565000\n",
    "# 3200---------------------18----610000\n",
    "# 3600---3----------------30----595000\n",
    "# 4000---5----------------8-----760000\n",
    "\n",
    "# Predict the price for the below\n",
    "# 3000---3----------------40----?\n",
    "# 2500---4----------------5-----?"
   ]
  },
  {
   "cell_type": "code",
   "execution_count": 7,
   "metadata": {},
   "outputs": [
    {
     "data": {
      "text/html": [
       "<div>\n",
       "<style scoped>\n",
       "    .dataframe tbody tr th:only-of-type {\n",
       "        vertical-align: middle;\n",
       "    }\n",
       "\n",
       "    .dataframe tbody tr th {\n",
       "        vertical-align: top;\n",
       "    }\n",
       "\n",
       "    .dataframe thead th {\n",
       "        text-align: right;\n",
       "    }\n",
       "</style>\n",
       "<table border=\"1\" class=\"dataframe\">\n",
       "  <thead>\n",
       "    <tr style=\"text-align: right;\">\n",
       "      <th></th>\n",
       "      <th>Area</th>\n",
       "      <th>Bedrooms</th>\n",
       "      <th>Age</th>\n",
       "      <th>Price</th>\n",
       "    </tr>\n",
       "  </thead>\n",
       "  <tbody>\n",
       "    <tr>\n",
       "      <th>0</th>\n",
       "      <td>2600</td>\n",
       "      <td>3.0</td>\n",
       "      <td>20</td>\n",
       "      <td>550000</td>\n",
       "    </tr>\n",
       "    <tr>\n",
       "      <th>1</th>\n",
       "      <td>3000</td>\n",
       "      <td>4.0</td>\n",
       "      <td>15</td>\n",
       "      <td>565000</td>\n",
       "    </tr>\n",
       "    <tr>\n",
       "      <th>2</th>\n",
       "      <td>3200</td>\n",
       "      <td>NaN</td>\n",
       "      <td>18</td>\n",
       "      <td>610000</td>\n",
       "    </tr>\n",
       "    <tr>\n",
       "      <th>3</th>\n",
       "      <td>3600</td>\n",
       "      <td>3.0</td>\n",
       "      <td>30</td>\n",
       "      <td>595000</td>\n",
       "    </tr>\n",
       "    <tr>\n",
       "      <th>4</th>\n",
       "      <td>4000</td>\n",
       "      <td>5.0</td>\n",
       "      <td>8</td>\n",
       "      <td>760000</td>\n",
       "    </tr>\n",
       "  </tbody>\n",
       "</table>\n",
       "</div>"
      ],
      "text/plain": [
       "   Area  Bedrooms  Age   Price\n",
       "0  2600       3.0   20  550000\n",
       "1  3000       4.0   15  565000\n",
       "2  3200       NaN   18  610000\n",
       "3  3600       3.0   30  595000\n",
       "4  4000       5.0    8  760000"
      ]
     },
     "execution_count": 7,
     "metadata": {},
     "output_type": "execute_result"
    }
   ],
   "source": [
    "# Import necessary libraries\n",
    "import numpy as np\n",
    "import pandas as pd\n",
    "\n",
    "# Read data from the CSV file 'HPriceData.csv' into a DataFrame 'df'\n",
    "df = pd.read_csv('C:/Users/raosu/Documents/Assignment 6 aiml/HPriceData.csv')\n",
    "\n",
    "# Display the first few rows of the DataFrame 'df'\n",
    "df.head()\n"
   ]
  },
  {
   "cell_type": "code",
   "execution_count": 8,
   "metadata": {
    "scrolled": true
   },
   "outputs": [
    {
     "data": {
      "text/html": [
       "<div>\n",
       "<style scoped>\n",
       "    .dataframe tbody tr th:only-of-type {\n",
       "        vertical-align: middle;\n",
       "    }\n",
       "\n",
       "    .dataframe tbody tr th {\n",
       "        vertical-align: top;\n",
       "    }\n",
       "\n",
       "    .dataframe thead th {\n",
       "        text-align: right;\n",
       "    }\n",
       "</style>\n",
       "<table border=\"1\" class=\"dataframe\">\n",
       "  <thead>\n",
       "    <tr style=\"text-align: right;\">\n",
       "      <th></th>\n",
       "      <th>Area</th>\n",
       "      <th>Bedrooms</th>\n",
       "      <th>Age</th>\n",
       "    </tr>\n",
       "  </thead>\n",
       "  <tbody>\n",
       "    <tr>\n",
       "      <th>0</th>\n",
       "      <td>2600</td>\n",
       "      <td>3.0</td>\n",
       "      <td>20</td>\n",
       "    </tr>\n",
       "    <tr>\n",
       "      <th>1</th>\n",
       "      <td>3000</td>\n",
       "      <td>4.0</td>\n",
       "      <td>15</td>\n",
       "    </tr>\n",
       "    <tr>\n",
       "      <th>2</th>\n",
       "      <td>3200</td>\n",
       "      <td>3.5</td>\n",
       "      <td>18</td>\n",
       "    </tr>\n",
       "    <tr>\n",
       "      <th>3</th>\n",
       "      <td>3600</td>\n",
       "      <td>3.0</td>\n",
       "      <td>30</td>\n",
       "    </tr>\n",
       "    <tr>\n",
       "      <th>4</th>\n",
       "      <td>4000</td>\n",
       "      <td>5.0</td>\n",
       "      <td>8</td>\n",
       "    </tr>\n",
       "    <tr>\n",
       "      <th>5</th>\n",
       "      <td>3000</td>\n",
       "      <td>3.0</td>\n",
       "      <td>40</td>\n",
       "    </tr>\n",
       "    <tr>\n",
       "      <th>6</th>\n",
       "      <td>2500</td>\n",
       "      <td>4.0</td>\n",
       "      <td>5</td>\n",
       "    </tr>\n",
       "  </tbody>\n",
       "</table>\n",
       "</div>"
      ],
      "text/plain": [
       "   Area  Bedrooms  Age\n",
       "0  2600       3.0   20\n",
       "1  3000       4.0   15\n",
       "2  3200       3.5   18\n",
       "3  3600       3.0   30\n",
       "4  4000       5.0    8\n",
       "5  3000       3.0   40\n",
       "6  2500       4.0    5"
      ]
     },
     "execution_count": 8,
     "metadata": {},
     "output_type": "execute_result"
    }
   ],
   "source": [
    "# Replace non-numeric values ('?') with NaN\n",
    "df = df.replace('?', np.nan)\n",
    "\n",
    "# Convert columns to numeric type\n",
    "df = df.apply(pd.to_numeric)\n",
    "\n",
    "# Fill NaN values with the median of each column\n",
    "df = df.fillna(df.median())\n",
    "\n",
    "# Create a new DataFrame 'x' by dropping the 'Price' column from the original DataFrame 'df'\n",
    "x = df.drop('Price', axis=1)\n",
    "\n",
    "# Display the modified DataFrame 'x'\n",
    "x\n"
   ]
  },
  {
   "cell_type": "code",
   "execution_count": 9,
   "metadata": {},
   "outputs": [
    {
     "data": {
      "text/html": [
       "<div>\n",
       "<style scoped>\n",
       "    .dataframe tbody tr th:only-of-type {\n",
       "        vertical-align: middle;\n",
       "    }\n",
       "\n",
       "    .dataframe tbody tr th {\n",
       "        vertical-align: top;\n",
       "    }\n",
       "\n",
       "    .dataframe thead th {\n",
       "        text-align: right;\n",
       "    }\n",
       "</style>\n",
       "<table border=\"1\" class=\"dataframe\">\n",
       "  <thead>\n",
       "    <tr style=\"text-align: right;\">\n",
       "      <th></th>\n",
       "      <th>x0</th>\n",
       "      <th>Area</th>\n",
       "      <th>Bedrooms</th>\n",
       "      <th>Age</th>\n",
       "    </tr>\n",
       "  </thead>\n",
       "  <tbody>\n",
       "    <tr>\n",
       "      <th>0</th>\n",
       "      <td>1</td>\n",
       "      <td>2600</td>\n",
       "      <td>3.0</td>\n",
       "      <td>20</td>\n",
       "    </tr>\n",
       "    <tr>\n",
       "      <th>1</th>\n",
       "      <td>1</td>\n",
       "      <td>3000</td>\n",
       "      <td>4.0</td>\n",
       "      <td>15</td>\n",
       "    </tr>\n",
       "    <tr>\n",
       "      <th>2</th>\n",
       "      <td>1</td>\n",
       "      <td>3200</td>\n",
       "      <td>3.5</td>\n",
       "      <td>18</td>\n",
       "    </tr>\n",
       "    <tr>\n",
       "      <th>3</th>\n",
       "      <td>1</td>\n",
       "      <td>3600</td>\n",
       "      <td>3.0</td>\n",
       "      <td>30</td>\n",
       "    </tr>\n",
       "    <tr>\n",
       "      <th>4</th>\n",
       "      <td>1</td>\n",
       "      <td>4000</td>\n",
       "      <td>5.0</td>\n",
       "      <td>8</td>\n",
       "    </tr>\n",
       "    <tr>\n",
       "      <th>5</th>\n",
       "      <td>1</td>\n",
       "      <td>3000</td>\n",
       "      <td>3.0</td>\n",
       "      <td>40</td>\n",
       "    </tr>\n",
       "    <tr>\n",
       "      <th>6</th>\n",
       "      <td>1</td>\n",
       "      <td>2500</td>\n",
       "      <td>4.0</td>\n",
       "      <td>5</td>\n",
       "    </tr>\n",
       "  </tbody>\n",
       "</table>\n",
       "</div>"
      ],
      "text/plain": [
       "   x0  Area  Bedrooms  Age\n",
       "0   1  2600       3.0   20\n",
       "1   1  3000       4.0   15\n",
       "2   1  3200       3.5   18\n",
       "3   1  3600       3.0   30\n",
       "4   1  4000       5.0    8\n",
       "5   1  3000       3.0   40\n",
       "6   1  2500       4.0    5"
      ]
     },
     "execution_count": 9,
     "metadata": {},
     "output_type": "execute_result"
    }
   ],
   "source": [
    "# Insert a new column 'x0' with constant value 1 at the beginning of the DataFrame 'x'\n",
    "x.insert(0, 'x0', [1, 1, 1, 1, 1, 1, 1])\n",
    "\n",
    "# Display the modified DataFrame 'x' with the new column 'x0'\n",
    "x\n"
   ]
  },
  {
   "cell_type": "code",
   "execution_count": 10,
   "metadata": {},
   "outputs": [
    {
     "data": {
      "text/plain": [
       "array([[1.0e+00, 2.6e+03, 3.0e+00, 2.0e+01],\n",
       "       [1.0e+00, 3.0e+03, 4.0e+00, 1.5e+01],\n",
       "       [1.0e+00, 3.2e+03, 3.5e+00, 1.8e+01],\n",
       "       [1.0e+00, 3.6e+03, 3.0e+00, 3.0e+01],\n",
       "       [1.0e+00, 4.0e+03, 5.0e+00, 8.0e+00],\n",
       "       [1.0e+00, 3.0e+03, 3.0e+00, 4.0e+01],\n",
       "       [1.0e+00, 2.5e+03, 4.0e+00, 5.0e+00]])"
      ]
     },
     "execution_count": 10,
     "metadata": {},
     "output_type": "execute_result"
    }
   ],
   "source": [
    "# Convert the DataFrame 'x' to a NumPy array\n",
    "x = x.values\n",
    "\n",
    "# Display the resulting NumPy array 'x'\n",
    "x\n"
   ]
  },
  {
   "cell_type": "code",
   "execution_count": 11,
   "metadata": {},
   "outputs": [
    {
     "data": {
      "text/plain": [
       "array([[1.0e+00, 1.0e+00, 1.0e+00, 1.0e+00, 1.0e+00, 1.0e+00, 1.0e+00],\n",
       "       [2.6e+03, 3.0e+03, 3.2e+03, 3.6e+03, 4.0e+03, 3.0e+03, 2.5e+03],\n",
       "       [3.0e+00, 4.0e+00, 3.5e+00, 3.0e+00, 5.0e+00, 3.0e+00, 4.0e+00],\n",
       "       [2.0e+01, 1.5e+01, 1.8e+01, 3.0e+01, 8.0e+00, 4.0e+01, 5.0e+00]])"
      ]
     },
     "execution_count": 11,
     "metadata": {},
     "output_type": "execute_result"
    }
   ],
   "source": [
    "# Transpose the NumPy array 'x' to get 'x_transpose'\n",
    "x_transpose = x.T\n",
    "\n",
    "# Display the transposed array 'x_transpose'\n",
    "x_transpose\n"
   ]
  },
  {
   "cell_type": "code",
   "execution_count": 12,
   "metadata": {},
   "outputs": [
    {
     "data": {
      "text/plain": [
       "array([[7.000e+00, 2.190e+04, 2.550e+01, 1.360e+02],\n",
       "       [2.190e+04, 7.021e+07, 8.080e+04, 4.271e+05],\n",
       "       [2.550e+01, 8.080e+04, 9.625e+01, 4.530e+02],\n",
       "       [1.360e+02, 4.271e+05, 4.530e+02, 3.538e+03]])"
      ]
     },
     "execution_count": 12,
     "metadata": {},
     "output_type": "execute_result"
    }
   ],
   "source": [
    "# Calculate the dot product of the transposed array 'x_transpose' and the original array 'x' to get 'x_transposeX'\n",
    "x_transposeX = x_transpose.dot(x)\n",
    "\n",
    "# Display the resulting matrix 'x_transposeX'\n",
    "x_transposeX\n"
   ]
  },
  {
   "cell_type": "code",
   "execution_count": 14,
   "metadata": {},
   "outputs": [
    {
     "data": {
      "text/plain": [
       "array([[ 1.65082071e+01,  7.84051843e-04, -4.02559849e+00,\n",
       "        -2.13789879e-01],\n",
       "       [ 7.84051843e-04,  1.25507721e-06, -1.02269182e-03,\n",
       "        -5.07052381e-05],\n",
       "       [-4.02559849e+00, -1.02269182e-03,  1.57552154e+00,\n",
       "         7.64730964e-02],\n",
       "       [-2.13789879e-01, -5.07052381e-05,  7.64730964e-02,\n",
       "         4.83021991e-03]])"
      ]
     },
     "execution_count": 14,
     "metadata": {},
     "output_type": "execute_result"
    }
   ],
   "source": [
    "# Calculate the inverse of the matrix 'x_transposeX' using NumPy's linear algebra module\n",
    "x_transposeX_inv = np.linalg.inv(x_transposeX)\n",
    "\n",
    "# Display the resulting inverse matrix 'x_transposeX_inv'\n",
    "x_transposeX_inv\n"
   ]
  },
  {
   "cell_type": "code",
   "execution_count": 15,
   "metadata": {},
   "outputs": [
    {
     "data": {
      "text/plain": [
       "array([550000., 565000., 610000., 595000., 760000., 595000., 595000.])"
      ]
     },
     "execution_count": 15,
     "metadata": {},
     "output_type": "execute_result"
    }
   ],
   "source": [
    "# Extract the 'Price' column from the DataFrame 'df' and convert it to a NumPy array 'y'\n",
    "y = df['Price'].values\n",
    "\n",
    "# Display the resulting array 'y'\n",
    "y\n"
   ]
  },
  {
   "cell_type": "code",
   "execution_count": 16,
   "metadata": {},
   "outputs": [
    {
     "data": {
      "text/plain": [
       "array([4.27000e+06, 1.35315e+10, 1.57950e+07, 8.11600e+07])"
      ]
     },
     "execution_count": 16,
     "metadata": {},
     "output_type": "execute_result"
    }
   ],
   "source": [
    "# Calculate the dot product of the transposed array 'x_transpose' and the array 'y' to get 'x_transposeY'\n",
    "x_transposeY = x_transpose.dot(y)\n",
    "\n",
    "# Display the resulting vector 'x_transposeY'\n",
    "x_transposeY\n"
   ]
  },
  {
   "cell_type": "code",
   "execution_count": 17,
   "metadata": {},
   "outputs": [
    {
     "name": "stdout",
     "output_type": "stream",
     "text": [
      "B0: 163927.0857784897 \n",
      "B1: 62.32421045124647 \n",
      "B2: 64059.25664011389 \n",
      "B3: 912.4937231284566\n"
     ]
    }
   ],
   "source": [
    "# Calculate the coefficients 'B_hat' using the formula: B_hat = (x_transposeX_inv) * x_transposeY\n",
    "B_hat = x_transposeX_inv.dot(x_transposeY)\n",
    "\n",
    "# Extract individual coefficients B0, B1, B2, B3 from 'B_hat'\n",
    "B0, B1, B2, B3 = B_hat[0], B_hat[1], B_hat[2], B_hat[3]\n",
    "\n",
    "# Display the calculated coefficients\n",
    "print(\"B0:\", B0, \"\\nB1:\", B1, \"\\nB2:\", B2, \"\\nB3:\", B3)\n"
   ]
  },
  {
   "cell_type": "code",
   "execution_count": 18,
   "metadata": {},
   "outputs": [
    {
     "data": {
      "text/plain": [
       "579577.2359777091"
      ]
     },
     "execution_count": 18,
     "metadata": {},
     "output_type": "execute_result"
    }
   ],
   "source": [
    "# Predict the target variable 'y' using the calculated coefficients\n",
    "y_predicted = B0 + (B1 * 3000) + (B2 * 3) + (B3 * 40)\n",
    "\n",
    "# Display the predicted value 'y_predicted'\n",
    "y_predicted\n"
   ]
  },
  {
   "cell_type": "code",
   "execution_count": 19,
   "metadata": {},
   "outputs": [
    {
     "data": {
      "text/plain": [
       "580537.1070827037"
      ]
     },
     "execution_count": 19,
     "metadata": {},
     "output_type": "execute_result"
    }
   ],
   "source": [
    "# Predict the target variable 'y' using the calculated coefficients for a new set of input values\n",
    "y_predicted = B0 + (B1 * 2500) + (B2 * 4) + (B3 * 5)\n",
    "\n",
    "# Display the predicted value 'y_predicted'\n",
    "y_predicted\n"
   ]
  },
  {
   "cell_type": "code",
   "execution_count": null,
   "metadata": {},
   "outputs": [],
   "source": []
  }
 ],
 "metadata": {
  "kernelspec": {
   "display_name": "Python 3 (ipykernel)",
   "language": "python",
   "name": "python3"
  },
  "language_info": {
   "codemirror_mode": {
    "name": "ipython",
    "version": 3
   },
   "file_extension": ".py",
   "mimetype": "text/x-python",
   "name": "python",
   "nbconvert_exporter": "python",
   "pygments_lexer": "ipython3",
   "version": "3.12.4"
  }
 },
 "nbformat": 4,
 "nbformat_minor": 4
}
