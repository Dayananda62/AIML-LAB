{
 "cells": [
  {
   "cell_type": "code",
   "execution_count": 2,
   "id": "b28ff879",
   "metadata": {},
   "outputs": [
    {
     "name": "stdout",
     "output_type": "stream",
     "text": [
      "[11, 23.22, 'hello', 11]\n"
     ]
    }
   ],
   "source": [
    "list1=[11,23.22,\"hello\",11]\n",
    "print(list1)"
   ]
  },
  {
   "cell_type": "code",
   "execution_count": 28,
   "id": "ee504a2a",
   "metadata": {},
   "outputs": [
    {
     "name": "stdout",
     "output_type": "stream",
     "text": [
      "enter element to find 3\n",
      "3 found\n"
     ]
    }
   ],
   "source": [
    "list1=[54,3,67,89,12,76]\n",
    "ele=int(input(\"enter element to find \"))\n",
    "for i in range(0,len(list1)):\n",
    "    if ele in list1:\n",
    "        print(ele, \"found\")\n",
    "        break;\n"
   ]
  },
  {
   "cell_type": "code",
   "execution_count": 18,
   "id": "7d8bc345",
   "metadata": {},
   "outputs": [
    {
     "name": "stdout",
     "output_type": "stream",
     "text": [
      "6\n"
     ]
    }
   ],
   "source": [
    "list1=[54,3,67,89,12,76]\n",
    "print(len(list1))"
   ]
  },
  {
   "cell_type": "code",
   "execution_count": 32,
   "id": "5de377b7",
   "metadata": {},
   "outputs": [
    {
     "name": "stdout",
     "output_type": "stream",
     "text": [
      "Enter number of list item:5\n",
      "Enter element :1 12\n",
      "Enter element :2 432\n",
      "Enter element :3 534\n",
      "Enter element :4 565\n",
      "Enter element :5 2321\n",
      "[12, 432, 534, 565, 2321]\n",
      "5\n"
     ]
    }
   ],
   "source": [
    "list1=[]\n",
    "n=int(input(\"Enter number of list item:\"))\n",
    "for i in range(0,n):\n",
    "    ele=int(input(\"Enter element :\" + str(i+1)+\" \"))\n",
    "    list1.append(ele)\n",
    "print(list1)\n",
    "print(len(list1))"
   ]
  },
  {
   "cell_type": "code",
   "execution_count": 3,
   "id": "10e51e7b",
   "metadata": {},
   "outputs": [
    {
     "name": "stdout",
     "output_type": "stream",
     "text": [
      "1\n",
      "4\n",
      "9\n",
      "16\n",
      "25\n"
     ]
    }
   ],
   "source": [
    "for i in range(1,6):\n",
    "    print(i**2)"
   ]
  },
  {
   "cell_type": "code",
   "execution_count": 10,
   "id": "8c4d1845",
   "metadata": {},
   "outputs": [
    {
     "name": "stdout",
     "output_type": "stream",
     "text": [
      "7\n",
      "6\n",
      "5\n",
      "4\n",
      "3\n",
      "2\n",
      "1\n"
     ]
    }
   ],
   "source": [
    "list1=[1,2,3,4,5,6,7]\n",
    "n=len(list1)\n",
    "for i in range(n,0,-1):\n",
    "    print(i)"
   ]
  },
  {
   "cell_type": "code",
   "execution_count": 14,
   "id": "c4e931b5",
   "metadata": {},
   "outputs": [
    {
     "name": "stdout",
     "output_type": "stream",
     "text": [
      "[76, 67, 45, 43, 22, 11, 9]\n"
     ]
    }
   ],
   "source": [
    "list1=[43,11,22,76,45,67,9]\n",
    "rev_sort=sorted(list1,reverse=True)\n",
    "print(rev_sort)  "
   ]
  },
  {
   "cell_type": "code",
   "execution_count": 16,
   "id": "b692dac6",
   "metadata": {},
   "outputs": [
    {
     "name": "stdout",
     "output_type": "stream",
     "text": [
      "equal\n"
     ]
    }
   ],
   "source": [
    "list1=[1,2,3,4]\n",
    "list2=[4,3,2,1]\n",
    "set1=set(list1)\n",
    "set2=set(list2)\n",
    "if set1==set2:\n",
    "    print(\"Equal\")\n",
    "else:\n",
    "    print(\"Not equal\")"
   ]
  },
  {
   "cell_type": "code",
   "execution_count": 24,
   "id": "5e219aef",
   "metadata": {},
   "outputs": [
    {
     "name": "stdout",
     "output_type": "stream",
     "text": [
      "[11, 22, 4, 5, 6, 9]\n"
     ]
    }
   ],
   "source": [
    "list1=[11,22,33,4,5,6,9,7]\n",
    "list1.remove(33)\n",
    "list1.pop()\n",
    "# list1.clear()\n",
    "print(list1)\n"
   ]
  },
  {
   "cell_type": "code",
   "execution_count": 26,
   "id": "16ab75b4",
   "metadata": {},
   "outputs": [
    {
     "name": "stdout",
     "output_type": "stream",
     "text": [
      "[1. 2. 3. 4. 5. 6.]\n"
     ]
    }
   ],
   "source": [
    "import numpy as np\n",
    "a=[1,2,3,4,5,6]\n",
    "x=np.asfarray(a)\n",
    "print(x)"
   ]
  },
  {
   "cell_type": "code",
   "execution_count": 33,
   "id": "2a5e29c4",
   "metadata": {},
   "outputs": [
    {
     "name": "stdout",
     "output_type": "stream",
     "text": [
      "<class 'list'>\n",
      "<class 'tuple'>\n",
      "[11 22 33 44 55 66 77]\n",
      "[1 2 3 4 5 5 6]\n"
     ]
    }
   ],
   "source": [
    "import numpy as np\n",
    "list1=[11,22,33,44,55,66,77]\n",
    "tuple1=(1,2,3,4,5,5,6)\n",
    "print(type(list1))\n",
    "print(type(tuple1))\n",
    "\n",
    "arr1=np.array(list1)\n",
    "arr2=np.array(tuple1)\n",
    "\n",
    "print(arr1)\n",
    "print(arr2)\n",
    "\n",
    "\n"
   ]
  },
  {
   "cell_type": "code",
   "execution_count": 34,
   "id": "d70e9138",
   "metadata": {},
   "outputs": [
    {
     "name": "stdout",
     "output_type": "stream",
     "text": [
      "<class 'list'>\n",
      "<class 'tuple'>\n",
      "[11 22 33 44 55 66 77]\n",
      "[1 2 3 4 5 5 6]\n"
     ]
    }
   ],
   "source": [
    "import numpy as np\n",
    "list1=[11,22,33,44,55,66,77]\n",
    "tuple1=(1,2,3,4,5,5,6)\n",
    "print(type(list1))\n",
    "print(type(tuple1))\n",
    "\n",
    "arr1=np.asarray(list1)\n",
    "arr2=np.asarray(tuple1)\n",
    "\n",
    "print(arr1)\n",
    "print(arr2)"
   ]
  },
  {
   "cell_type": "code",
   "execution_count": null,
   "id": "9a5f9111",
   "metadata": {},
   "outputs": [],
   "source": [
    "n = int(input(\"Enter the number of terms in the Fibonacci series: \"))\n",
    "f1=0\n",
    "f2=1\n",
    "f3=0\n",
    "\n",
    "for i in range(n):\n",
    "    print(f1)\n",
    "    f3=f1+f2\n",
    "    f1=f2\n",
    "    f2=f3\n",
    "    "
   ]
  },
  {
   "cell_type": "code",
   "execution_count": null,
   "id": "d0842eee",
   "metadata": {},
   "outputs": [],
   "source": [
    "l1=[1,2,53,4,5,6]\n",
    "print(l1.sort())"
   ]
  },
  {
   "cell_type": "markdown",
   "id": "aa07d7ad",
   "metadata": {},
   "source": []
  },
  {
   "cell_type": "code",
   "execution_count": 23,
   "id": "457b583a",
   "metadata": {},
   "outputs": [
    {
     "name": "stdout",
     "output_type": "stream",
     "text": [
      "enter a :3\n",
      "enter 2:16\n",
      "48\n"
     ]
    }
   ],
   "source": [
    "num1=int(input(\"enter a :\"))\n",
    "num2=int(input(\"enter 2:\"))\n",
    "a=num1\n",
    "b=num2\n",
    "while b:\n",
    "    \n",
    "    a,b=b,a%b\n",
    "lcm=(num1*num2)//a\n",
    "print(lcm)\n",
    "\n"
   ]
  },
  {
   "cell_type": "code",
   "execution_count": null,
   "id": "5d25a07c",
   "metadata": {},
   "outputs": [],
   "source": []
  }
 ],
 "metadata": {
  "kernelspec": {
   "display_name": "Python 3 (ipykernel)",
   "language": "python",
   "name": "python3"
  },
  "language_info": {
   "codemirror_mode": {
    "name": "ipython",
    "version": 3
   },
   "file_extension": ".py",
   "mimetype": "text/x-python",
   "name": "python",
   "nbconvert_exporter": "python",
   "pygments_lexer": "ipython3",
   "version": "3.9.7"
  }
 },
 "nbformat": 4,
 "nbformat_minor": 5
}
