{
 "cells": [
  {
   "cell_type": "code",
   "execution_count": 18,
   "id": "ee94463c",
   "metadata": {},
   "outputs": [
    {
     "name": "stdout",
     "output_type": "stream",
     "text": [
      "Enter first name :Daya\n",
      "Enter middle name :nand bnr\n",
      "Enter last name :kulal\n",
      "Don't use space\n",
      "D. N. K. \n"
     ]
    }
   ],
   "source": [
    "first=input(\"Enter first name :\")\n",
    "middle=input(\"Enter middle name :\")\n",
    "last=input(\"Enter last name :\")\n",
    "\n",
    "if \" \" in first or \" \" in middle or \" \" in last:\n",
    "    print(\"Don't use space\")\n",
    "    exit(0)\n",
    "\n",
    "print(first[0].upper()+\". \"+middle[0].upper()+\". \"+last[0].upper()+\". \")\n"
   ]
  },
  {
   "cell_type": "code",
   "execution_count": 3,
   "id": "6626a3d3",
   "metadata": {},
   "outputs": [
    {
     "name": "stdout",
     "output_type": "stream",
     "text": [
      "Enter your password: Dayanand\n",
      "Password must contain atleast one numeric digit\n",
      "Password Accepted\n"
     ]
    }
   ],
   "source": [
    "str=input(\"Enter your password: \")\n",
    "list1=list(str)\n",
    "\n",
    "lower=False\n",
    "upper=False\n",
    "digit=False\n",
    "\n",
    "for char in list1:\n",
    "    if char.islower():\n",
    "        lower=True\n",
    "    elif char.isupper():\n",
    "        upper=True\n",
    "    elif char.isdigit():\n",
    "        digit=True\n",
    "\n",
    "if len(list1)<8:\n",
    "    print(\"Password length should be atleast 8 character\")\n",
    "    exit(0)\n",
    "if lower==False:\n",
    "    print(\"Password must contain atleast one Lowercase letter\")\n",
    "    exit(0)\n",
    "if upper==False:\n",
    "    print(\"Password must contain atleast one Uppercase letter\")\n",
    "    exit(0)\n",
    "if digit==False:\n",
    "    print(\"Password must contain atleast one numeric digit\")\n",
    "    exit(0)\n",
    "    \n",
    "print(\"Password Accepted\")\n",
    "    \n",
    "    \n",
    "         \n",
    "    "
   ]
  },
  {
   "cell_type": "code",
   "execution_count": 9,
   "id": "6531a632",
   "metadata": {},
   "outputs": [
    {
     "name": "stdout",
     "output_type": "stream",
     "text": [
      "Enter string :Nitte\n",
      "eittN\n"
     ]
    }
   ],
   "source": [
    "str1=input(\"Enter string :\")\n",
    "print(str1[-1]+str1[1:-1]+str1[0])\n"
   ]
  },
  {
   "cell_type": "code",
   "execution_count": 2,
   "id": "0f44a5f8",
   "metadata": {},
   "outputs": [
    {
     "name": "stdout",
     "output_type": "stream",
     "text": [
      "Enter string :India\n",
      "Number of vowel in the string India: 3\n"
     ]
    }
   ],
   "source": [
    "str1=input(\"Enter string :\")\n",
    "count=0\n",
    "vowel=['a','e','i','o','u','A','E','I','O','U']\n",
    "for char in str1:\n",
    "    if char in vowel:\n",
    "        count+=1\n",
    "print(f\"Number of vowel in the string {str1}:\",count)\n"
   ]
  },
  {
   "cell_type": "code",
   "execution_count": 3,
   "id": "b0c1586a",
   "metadata": {},
   "outputs": [
    {
     "name": "stdout",
     "output_type": "stream",
     "text": [
      "Enter your String: DAyananD123\n",
      "Number of Upper Letters in the string DAyananD123 : 3\n",
      "Number of Lower Letters in the string DAyananD123 : 5\n",
      "Number of Digits in the string DAyananD123 : 3\n"
     ]
    }
   ],
   "source": [
    "str1=input(\"Enter your String: \")\n",
    "list1=list(str1)\n",
    "\n",
    "lower=0\n",
    "upper=0\n",
    "digit=0\n",
    "\n",
    "for char in list1:\n",
    "    if char.islower():\n",
    "        lower+=1\n",
    "    elif char.isupper():\n",
    "        upper+=1\n",
    "    elif char.isdigit():\n",
    "        digit+=1\n",
    "        \n",
    "print(f\"Number of Upper Letters in the string {str1} :\",upper)\n",
    "print(f\"Number of Lower Letters in the string {str1} :\",lower)\n",
    "print(f\"Number of Digits in the string {str1} :\",digit)\n"
   ]
  },
  {
   "cell_type": "code",
   "execution_count": null,
   "id": "900e06b8",
   "metadata": {},
   "outputs": [],
   "source": []
  }
 ],
 "metadata": {
  "kernelspec": {
   "display_name": "Python 3 (ipykernel)",
   "language": "python",
   "name": "python3"
  },
  "language_info": {
   "codemirror_mode": {
    "name": "ipython",
    "version": 3
   },
   "file_extension": ".py",
   "mimetype": "text/x-python",
   "name": "python",
   "nbconvert_exporter": "python",
   "pygments_lexer": "ipython3",
   "version": "3.9.7"
  }
 },
 "nbformat": 4,
 "nbformat_minor": 5
}
